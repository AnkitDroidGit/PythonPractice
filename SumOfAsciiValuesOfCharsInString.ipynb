{
 "cells": [
  {
   "cell_type": "code",
   "execution_count": 4,
   "metadata": {},
   "outputs": [
    {
     "name": "stdout",
     "output_type": "stream",
     "text": [
      "Sum of ASCII values:\n",
      "83 105 109 112 114 105 110 116 115 44 32 101 118 101 114 121 32 112 101 114 115 111 110 32 99 111 117 110 116 115\n",
      "Total of all ASCII values in sentence:  2995\n"
     ]
    }
   ],
   "source": [
    "sent = \"Simprints, every person counts\"\n",
    "words = [x for x in sent]\n",
    "\n",
    "result = {}\n",
    "\n",
    "# Calculate sum of ascii values for every word\n",
    "for word in words:\n",
    "   result[word] = sum(map(ord,word))\n",
    "\n",
    "totalSum = 0\n",
    "# Create an array with ASCII sum of words using the dict\n",
    "sumForSentence = [result[word] for word in words]\n",
    "\n",
    "print ('Sum of ASCII values:')\n",
    "print (' '.join(map(str, sumForSentence)))\n",
    "\n",
    "print ('Total of all ASCII values in sentence: ',sum(sumForSentence))"
   ]
  },
  {
   "cell_type": "code",
   "execution_count": null,
   "metadata": {},
   "outputs": [],
   "source": []
  }
 ],
 "metadata": {
  "kernelspec": {
   "display_name": "Python 3",
   "language": "python",
   "name": "python3"
  },
  "language_info": {
   "codemirror_mode": {
    "name": "ipython",
    "version": 3
   },
   "file_extension": ".py",
   "mimetype": "text/x-python",
   "name": "python",
   "nbconvert_exporter": "python",
   "pygments_lexer": "ipython3",
   "version": "3.7.0"
  }
 },
 "nbformat": 4,
 "nbformat_minor": 2
}
