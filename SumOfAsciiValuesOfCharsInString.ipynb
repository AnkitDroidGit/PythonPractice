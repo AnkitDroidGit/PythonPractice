{
 "cells": [
  {
   "cell_type": "code",
   "execution_count": 2,
   "metadata": {},
   "outputs": [
    {
     "name": "stdout",
     "output_type": "stream",
     "text": [
      "Sum of ASCII values:\n",
      "221 73 206 1159 548 341 213 313 361 656 215 853\n",
      "Total of all ASCII values in sentence:  5159\n"
     ]
    }
   ],
   "source": [
    "sent = \"Hi, I am calculating total sum of all ASCII values in sentence\"\n",
    "words = sent.split(\" \")\n",
    "\n",
    "result = {}\n",
    "\n",
    "# Calculate sum of ascii values for every word\n",
    "for word in words:\n",
    "   result[word] = sum(map(ord,word))\n",
    "\n",
    "totalSum = 0\n",
    "# Create an array with ASCII sum of words using the dict\n",
    "sumForSentence = [result[word] for word in words]\n",
    "\n",
    "print ('Sum of ASCII values:')\n",
    "print (' '.join(map(str, sumForSentence)))\n",
    "\n",
    "print ('Total of all ASCII values in sentence: ',sum(sumForSentence))"
   ]
  },
  {
   "cell_type": "code",
   "execution_count": null,
   "metadata": {},
   "outputs": [],
   "source": []
  }
 ],
 "metadata": {
  "kernelspec": {
   "display_name": "Python 3",
   "language": "python",
   "name": "python3"
  },
  "language_info": {
   "codemirror_mode": {
    "name": "ipython",
    "version": 3
   },
   "file_extension": ".py",
   "mimetype": "text/x-python",
   "name": "python",
   "nbconvert_exporter": "python",
   "pygments_lexer": "ipython3",
   "version": "3.7.0"
  }
 },
 "nbformat": 4,
 "nbformat_minor": 2
}
