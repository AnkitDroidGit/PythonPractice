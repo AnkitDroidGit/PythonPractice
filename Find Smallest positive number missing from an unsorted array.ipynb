{
 "cells": [
  {
   "cell_type": "code",
   "execution_count": 4,
   "metadata": {},
   "outputs": [],
   "source": [
    "def solution(A):#Our original array \n",
    "  \n",
    "    m = max(A) #Storing maximum value \n",
    "    if m < 1: \n",
    "          \n",
    "        # In case all values in our array are negative \n",
    "        return 1 \n",
    "    if len(A) == 1: \n",
    "          \n",
    "        #If it contains only one element \n",
    "        return 2 if A[0] == 1 else 1     \n",
    "    l = [0] * m \n",
    "    for i in range(len(A)): \n",
    "        if A[i] > 0: \n",
    "            if l[A[i] - 1] != 1: \n",
    "                  \n",
    "                #Changing the value status at the index of our list \n",
    "                l[A[i] - 1] = 1 \n",
    "    for i in range(len(l)): \n",
    "          \n",
    "        #Encountering first 0, i.e, the element with least value \n",
    "        if l[i] == 0:  \n",
    "            return i+1\n",
    "            #In case all values are filled between 1 and m \n",
    "    return i+2     \n",
    "  \n"
   ]
  },
  {
   "cell_type": "code",
   "execution_count": 6,
   "metadata": {},
   "outputs": [
    {
     "name": "stdout",
     "output_type": "stream",
     "text": [
      "4\n"
     ]
    }
   ],
   "source": [
    "A = [3, 10, 1, 2, -10, -20] \n",
    "print(solution(A)) "
   ]
  },
  {
   "cell_type": "code",
   "execution_count": null,
   "metadata": {},
   "outputs": [],
   "source": []
  }
 ],
 "metadata": {
  "kernelspec": {
   "display_name": "Python 3",
   "language": "python",
   "name": "python3"
  },
  "language_info": {
   "codemirror_mode": {
    "name": "ipython",
    "version": 3
   },
   "file_extension": ".py",
   "mimetype": "text/x-python",
   "name": "python",
   "nbconvert_exporter": "python",
   "pygments_lexer": "ipython3",
   "version": "3.7.0"
  }
 },
 "nbformat": 4,
 "nbformat_minor": 2
}
