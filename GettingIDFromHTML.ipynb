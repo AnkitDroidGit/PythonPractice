{
 "cells": [
  {
   "cell_type": "code",
   "execution_count": 31,
   "metadata": {},
   "outputs": [
    {
     "name": "stdout",
     "output_type": "stream",
     "text": [
      "ul\n",
      "sortable\n",
      "8d1f8cb8-337f-4e4b-910a-414dcea3f431\n"
     ]
    }
   ],
   "source": [
    "import bs4 as bs\n",
    "\n",
    "html_doc = \"\"\"<ul id=\"sortable\" class=\"ui-sortable\"><li class=\"ui-state-default form-inline\" id=\"8d1f8cb8-337f-4e4b-910a-414dcea3f431\"><div class=\"form-group\"><i class=\"fa fa-arrows-v\"></i> <label class=\"group-label\">Group Name</label> <input class=\"form-control input-medium groupname\" type=\"text\" name=\"groupName_8d1f8cb8-337f-4e4b-910a-414dcea3f431\" placeholder=\"e.g color, size\" required=\"\"> <a class=\"btn btn-link delete-group\" href=\"#\"><i class=\"fa fa-trash-o\"></i>Delete</a></div><div class=\"modifiers-group\"> <div class=\"options-header\"> <span class=\"option-name\">Option Name</span> <span class=\"option-value\">Add to Price <br> (tax-excluded)</span><span class=\"option-value\">Add to Price <br> (tax-included)</span><span class=\"option-default\">Default</span> </div> <div> <ul class=\"option-sortable ui-sortable\"> <li class=\"ui-state-default\"><i class=\"fa fa-arrows-v\"></i> <div class=\"form-group\"> <input class=\"form-control input-medium optionname\" type=\"text\" name=\"optionName_df339122-69f1-496a-a076-5d4356b977df\" placeholder=\"e.g. small, medium, large\"></div> <div class=\"form-group\"><input class=\"form-control input-small newcost priceWithoutTax\" type=\"text\" name=\"cost_7a7bb987-4371-4bfb-f045-a9d52e1825b8\" value=\"0.00\" data-unitprice=\"0.00\"> <input class=\"form-control input-small priceWithTax\" type=\"text\" value=\"0.00\"></div> <div class=\"radio\"><span class=\"checked\"><input class=\"form-control\" type=\"radio\" name=\"isDefault_8d1f8cb8-337f-4e4b-910a-414dcea3f431\" checked=\"\"></span></div> <a class=\"btn btn-link delete-line\" href=\"#\"> <i class=\"fa fa-trash-o\"></i>Delete</a></li> </ul> <div class=\"addOption inventoryMessage\"> <a class=\"btn btn-link addButton\"> <i class=\"fa fa-plus-circle\"></i>Add another option</a> </div> </div></div></li></ul>\"\"\"\n",
    "\n",
    "soup = bs.BeautifulSoup(html_doc)\n",
    "\n",
    "tag = soup.ul\n",
    "\n",
    "type(tag)\n",
    "\n",
    "print(tag.name)\n",
    "print(tag['id'])\n",
    "\n",
    "innertag = tag.li\n",
    "\n",
    "print(innertag['id'])"
   ]
  },
  {
   "cell_type": "code",
   "execution_count": null,
   "metadata": {},
   "outputs": [],
   "source": []
  }
 ],
 "metadata": {
  "kernelspec": {
   "display_name": "Python 3",
   "language": "python",
   "name": "python3"
  },
  "language_info": {
   "codemirror_mode": {
    "name": "ipython",
    "version": 3
   },
   "file_extension": ".py",
   "mimetype": "text/x-python",
   "name": "python",
   "nbconvert_exporter": "python",
   "pygments_lexer": "ipython3",
   "version": "3.6.8"
  }
 },
 "nbformat": 4,
 "nbformat_minor": 2
}
