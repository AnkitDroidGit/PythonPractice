{
 "cells": [
  {
   "cell_type": "code",
   "execution_count": 40,
   "metadata": {},
   "outputs": [
    {
     "name": "stdout",
     "output_type": "stream",
     "text": [
      "[83, 105, 109, 112, 114, 105, 110, 116, 115, 44, 32, 101, 118, 101, 114, 121, 32, 112, 101, 114, 115, 111, 110, 32, 99, 111, 117, 110, 116, 115]\n",
      "Sum of ASCII values:\n",
      "83 105 109 112 114 105 110 116 115 44 32 101 118 101 114 121 32 112 101 114 115 111 110 32 99 111 117 110 116 115\n",
      "Total of all ASCII values in sentence:  2995\n",
      "0\n",
      "[84, 104, 105, 115, 32, 105, 115, 32, 110, 111, 116, 32, 98, 108, 97, 99, 107, 32, 109, 97, 110]\n",
      "Sum of ASCII values:\n",
      "84 104 105 115 32 105 115 32 110 111 116 32 98 108 97 99 107 32 109 97 110\n",
      "Total of all ASCII values in sentence:  1918\n",
      "1\n",
      "[84, 104, 105, 115, 32, 105, 115, 32, 98, 108, 97, 99, 107, 32, 109, 97, 110]\n",
      "Sum of ASCII values:\n",
      "84 104 105 115 32 105 115 32 98 108 97 99 107 32 109 97 110\n",
      "Total of all ASCII values in sentence:  1549\n",
      "2\n",
      "[84, 104, 105, 115, 32, 105, 115, 32, 98, 108, 97, 99, 107, 32, 109, 97, 110, 32, 98, 117, 116, 32, 110, 111, 116, 32, 102, 114, 111, 109, 32, 65, 102, 114, 105, 99, 97]\n",
      "Sum of ASCII values:\n",
      "84 104 105 115 32 105 115 32 98 108 97 99 107 32 109 97 110 32 98 117 116 32 110 111 116 32 102 114 111 109 32 65 102 114 105 99 97\n",
      "Total of all ASCII values in sentence:  3363\n",
      "3\n"
     ]
    }
   ],
   "source": [
    "sent = \"Simprints, every person counts\"\n",
    "sent1 = \"This is not black man\"\n",
    "sent2 = \"This is black man\"\n",
    "sent3 = \"This is black man but not from Africa\"\n",
    "\n",
    "words = [x for x in sent]\n",
    "words1 = [x for x in sent1]\n",
    "words2 = [x for x in sent2]\n",
    "words3 = [x for x in sent3]\n",
    "\n",
    "arrayOfWords = [words, words1, words2, words3]\n",
    "# print (arrayOfWords)\n",
    "\n",
    "result = {}\n",
    "arrayOfResult = []\n",
    "\n",
    "# Calculate sum of ascii values for every word\n",
    "for wordss in arrayOfWords:\n",
    "#     print (wordss)\n",
    "    for word in wordss:\n",
    "#         print (word)\n",
    "        result[word] = sum(map(ord,word))\n",
    "#         print(result[word])\n",
    "#         arrayOfResult[arrayOfWords.index(wordss)] = result[word]\n",
    "        \n",
    "      \n",
    "listOfSums = []\n",
    "# Create an array with ASCII sum of words using the dict\n",
    "for wordss in arrayOfWords:\n",
    "    sumForSentence = [result[word] for word in wordss]\n",
    "    print(sumForSentence)\n",
    "    print ('Sum of ASCII values:')\n",
    "    print (' '.join(map(str, sumForSentence)))\n",
    "    print ('Total of all ASCII values in sentence: ',sum(sumForSentence))\n",
    "    print(arrayOfWords.index(wordss))\n",
    "#     listOfSums[arrayOfWords.index(wordss)] = sum(sumForSentence)\n",
    "    \n"
   ]
  },
  {
   "cell_type": "code",
   "execution_count": null,
   "metadata": {},
   "outputs": [],
   "source": []
  },
  {
   "cell_type": "code",
   "execution_count": null,
   "metadata": {},
   "outputs": [],
   "source": []
  }
 ],
 "metadata": {
  "kernelspec": {
   "display_name": "Python 3",
   "language": "python",
   "name": "python3"
  },
  "language_info": {
   "codemirror_mode": {
    "name": "ipython",
    "version": 3
   },
   "file_extension": ".py",
   "mimetype": "text/x-python",
   "name": "python",
   "nbconvert_exporter": "python",
   "pygments_lexer": "ipython3",
   "version": "3.7.0"
  }
 },
 "nbformat": 4,
 "nbformat_minor": 2
}
