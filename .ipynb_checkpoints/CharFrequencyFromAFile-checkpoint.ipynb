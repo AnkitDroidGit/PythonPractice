{
 "cells": [
  {
   "cell_type": "code",
   "execution_count": 45,
   "metadata": {},
   "outputs": [
    {
     "name": "stdout",
     "output_type": "stream",
     "text": [
      "{'0': 1, '1': 0, '2': 2, '3': 6, '4': 8, '5': 7, '6': 0, '7': 0, '8': 1, '9': 1, 'a': 3, 'b': 3, 'c': 5, 'd': 0, 'e': 7, 'f': 0, 'g': 8, 'h': 8, 'i': 9, 'j': 4, 'k': 4, 'l': 4, 'm': 0, 'n': 9, 'o': 8, 'p': 9, 'q': 0, 'r': 8, 's': 1, 't': 17, 'u': 1, 'v': 0, 'w': 1, 'x': 0, 'y': 3, 'z': 0, 'A': 0, 'B': 0, 'C': 0, 'D': 0, 'E': 0, 'F': 0, 'G': 0, 'H': 0, 'I': 0, 'J': 0, 'K': 0, 'L': 0, 'M': 0, 'N': 0, 'O': 0, 'P': 3, 'Q': 0, 'R': 0, 'S': 0, 'T': 0, 'U': 0, 'V': 0, 'W': 0, 'X': 0, 'Y': 0, 'Z': 0}\n"
     ]
    },
    {
     "data": {
      "image/png": "[encoded data removed]",
      "text/plain": [
       "<Figure size 432x288 with 1 Axes>"
      ]
     },
     "metadata": {
      "needs_background": "light"
     },
     "output_type": "display_data"
    }
   ],
   "source": [
    "from string import ascii_letters, digits \n",
    "# ascii_lowercase =='abcdefghijklmnopqrstuvwxyz'\n",
    "import numpy as np\n",
    "import matplotlib.pyplot as plt\n",
    "import os\n",
    "\n",
    "current_folder = globals()['_dh'][0]\n",
    "\n",
    "# Calculating path to the input data\n",
    "file = os.path.join(current_folder,'README.md')\n",
    "\n",
    "with open(file) as f:\n",
    "    text = f.read().strip()\n",
    "    dic = {}        \n",
    "    for x in digits:\n",
    "        dic[x] = text.count(x)\n",
    "    for x in ascii_letters:\n",
    "        dic[x] = text.count(x)\n",
    "        \n",
    "print(dic)\n",
    "\n",
    "pos = np.arange(len(dic.keys()))\n",
    "ax = plt.axes()\n",
    "ax.set_xticks(pos)\n",
    "ax.set_xticklabels(dic.keys())\n",
    "\n",
    "plt.bar(dic.keys(), dic.values(), 0.2, color='g')\n",
    "\n",
    "plt.show()\n",
    "        "
   ]
  },
  {
   "cell_type": "code",
   "execution_count": null,
   "metadata": {},
   "outputs": [],
   "source": []
  }
 ],
 "metadata": {
  "kernelspec": {
   "display_name": "Python 3",
   "language": "python",
   "name": "python3"
  },
  "language_info": {
   "codemirror_mode": {
    "name": "ipython",
    "version": 3
   },
   "file_extension": ".py",
   "mimetype": "text/x-python",
   "name": "python",
   "nbconvert_exporter": "python",
   "pygments_lexer": "ipython3",
   "version": "3.7.0"
  }
 },
 "nbformat": 4,
 "nbformat_minor": 2
}
