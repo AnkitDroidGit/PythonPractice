{
 "cells": [
  {
   "cell_type": "code",
   "execution_count": 6,
   "metadata": {},
   "outputs": [
    {
     "name": "stdout",
     "output_type": "stream",
     "text": [
      "{'0': 1453, '1': 600, '2': 610, '3': 596, '4': 522, '5': 610, '6': 575, '7': 531, '8': 479, '9': 451, 'a': 560, 'b': 550, 'c': 500, 'd': 516, 'e': 781, 'f': 437, 'g': 436, 'h': 373, 'i': 471, 'j': 547, 'k': 374, 'l': 485, 'm': 431, 'n': 693, 'o': 679, 'p': 406, 'q': 364, 'r': 485, 's': 468, 't': 620, 'u': 354, 'v': 380, 'w': 391, 'x': 407, 'y': 397, 'z': 375, 'A': 393, 'B': 383, 'C': 417, 'D': 406, 'E': 359, 'F': 462, 'G': 403, 'H': 383, 'I': 393, 'J': 403, 'K': 361, 'L': 400, 'M': 364, 'N': 355, 'O': 428, 'P': 400, 'Q': 399, 'R': 509, 'S': 435, 'T': 520, 'U': 367, 'V': 380, 'W': 404, 'X': 354, 'Y': 411, 'Z': 378}\n"
     ]
    },
    {
     "data": {
      "image/png": "[encoded data removed]",
      "text/plain": [
       "<Figure size 432x288 with 1 Axes>"
      ]
     },
     "metadata": {
      "needs_background": "light"
     },
     "output_type": "display_data"
    }
   ],
   "source": [
    "from string import ascii_letters, digits \n",
    "import numpy as np\n",
    "import matplotlib.pyplot as plt\n",
    "import os\n",
    "import codecs\n",
    "\n",
    "current_folder = globals()['_dh'][0]\n",
    "\n",
    "# Calculating path to the input data\n",
    "file = os.path.join(current_folder,'resume.pdf')\n",
    "\n",
    "with codecs.open(file, \"r\",encoding='utf-8', errors='ignore') as f:\n",
    "    text = f.read().strip()\n",
    "    dic = {}        \n",
    "    for x in digits:\n",
    "        dic[x] = text.count(x)\n",
    "    for x in ascii_letters:\n",
    "        dic[x] = text.count(x)\n",
    "        \n",
    "print(dic)\n",
    "\n",
    "pos = np.arange(len(dic.keys()))\n",
    "ax = plt.axes()\n",
    "ax.set_xticks(pos)\n",
    "ax.set_xticklabels(dic.keys())\n",
    "\n",
    "plt.bar(dic.keys(), dic.values(), 0.2, color='g')\n",
    "\n",
    "plt.show()\n",
    "        "
   ]
  },
  {
   "cell_type": "code",
   "execution_count": null,
   "metadata": {},
   "outputs": [],
   "source": []
  }
 ],
 "metadata": {
  "kernelspec": {
   "display_name": "Python 3",
   "language": "python",
   "name": "python3"
  },
  "language_info": {
   "codemirror_mode": {
    "name": "ipython",
    "version": 3
   },
   "file_extension": ".py",
   "mimetype": "text/x-python",
   "name": "python",
   "nbconvert_exporter": "python",
   "pygments_lexer": "ipython3",
   "version": "3.7.0"
  }
 },
 "nbformat": 4,
 "nbformat_minor": 2
}
