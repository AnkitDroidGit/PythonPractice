{
 "cells": [
  {
   "cell_type": "code",
   "execution_count": 26,
   "metadata": {},
   "outputs": [
    {
     "name": "stdout",
     "output_type": "stream",
     "text": [
      "{'a': 3, 'b': 0, 'c': 5, 'd': 0, 'e': 3, 'f': 0, 'g': 2, 'h': 4, 'i': 4, 'j': 0, 'k': 0, 'l': 2, 'm': 0, 'n': 4, 'o': 2, 'p': 1, 'q': 0, 'r': 2, 's': 1, 't': 5, 'u': 0, 'v': 0, 'w': 1, 'x': 0, 'y': 2, 'z': 0, 'A': 0, 'B': 0, 'C': 0, 'D': 0, 'E': 0, 'F': 0, 'G': 0, 'H': 0, 'I': 0, 'J': 0, 'K': 0, 'L': 0, 'M': 0, 'N': 0, 'O': 0, 'P': 3, 'Q': 0, 'R': 0, 'S': 0, 'T': 0, 'U': 0, 'V': 0, 'W': 0, 'X': 0, 'Y': 0, 'Z': 0, '0': 0, '1': 0, '2': 0, '3': 0, '4': 0, '5': 0, '6': 0, '7': 0, '8': 0, '9': 0}\n"
     ]
    }
   ],
   "source": [
    "from string import ascii_letters, digits \n",
    "# ascii_lowercase =='abcdefghijklmnopqrstuvwxyz'\n",
    "import numpy as np\n",
    "import os\n",
    "\n",
    "current_folder = globals()['_dh'][0]\n",
    "\n",
    "# Calculating path to the input data\n",
    "file = os.path.join(current_folder,'README.md')\n",
    "\n",
    "\n",
    "with open(file) as f:\n",
    "    text = f.read().strip()\n",
    "    dic = {}\n",
    "    for x in ascii_letters:\n",
    "        dic[x] = text.count(x)\n",
    "        \n",
    "    for x in digits:\n",
    "        dic[x] = text.count(x)\n",
    "\n",
    "print(dic)\n",
    "        "
   ]
  },
  {
   "cell_type": "code",
   "execution_count": null,
   "metadata": {},
   "outputs": [],
   "source": []
  }
 ],
 "metadata": {
  "kernelspec": {
   "display_name": "Python 3",
   "language": "python",
   "name": "python3"
  },
  "language_info": {
   "codemirror_mode": {
    "name": "ipython",
    "version": 3
   },
   "file_extension": ".py",
   "mimetype": "text/x-python",
   "name": "python",
   "nbconvert_exporter": "python",
   "pygments_lexer": "ipython3",
   "version": "3.7.0"
  }
 },
 "nbformat": 4,
 "nbformat_minor": 2
}
